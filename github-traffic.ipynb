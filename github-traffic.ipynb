{
 "cells": [
  {
   "cell_type": "code",
   "execution_count": null,
   "metadata": {},
   "outputs": [],
   "source": [
    "require 'octokit'\n",
    "require 'pp'\n",
    "\n",
    "client = Octokit::Client.new(:login => 'alexrochas', :password => ENV['GITHUB_PASS'], per_page: 200)\n",
    "# client.auto_paginate = true"
   ]
  },
  {
   "cell_type": "code",
   "execution_count": null,
   "metadata": {},
   "outputs": [],
   "source": [
    "pp client.repos\n",
    "repos = client\n",
    "          .repos\n",
    "          .select {|repo| !repo.private }\n",
    "          .map {|repo| repo.full_name }\n",
    "          .map { |repo| {:repo => repo, :views => client.views(repo, {accept: \"application/vnd.github.squirrel-girl-preview+json\"})} }\n",
    "\n",
    "repos.size"
   ]
  },
  {
   "cell_type": "code",
   "execution_count": null,
   "metadata": {},
   "outputs": [],
   "source": [
    "repos.sort_by { |repo| \n",
    "    -repo[:views][:uniques]\n",
    "  }.take(10).each_with_index { |repo, index| \n",
    "    puts \"\\##{index+1} - #{repo[:repo]} with #{repo[:views][:uniques]} unique views\"\n",
    "  }"
   ]
  },
  {
   "cell_type": "code",
   "execution_count": null,
   "metadata": {},
   "outputs": [],
   "source": []
  }
 ],
 "metadata": {
  "kernelspec": {
   "display_name": "Ruby 2.4.1",
   "language": "ruby",
   "name": "ruby"
  },
  "language_info": {
   "file_extension": ".rb",
   "mimetype": "application/x-ruby",
   "name": "ruby",
   "version": "2.4.1"
  }
 },
 "nbformat": 4,
 "nbformat_minor": 2
}
